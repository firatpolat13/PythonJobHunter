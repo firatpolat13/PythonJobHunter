{
 "cells": [
  {
   "cell_type": "code",
   "execution_count": 1,
   "metadata": {},
   "outputs": [
    {
     "name": "stdout",
     "output_type": "stream",
     "text": [
      "Type where you want to work: Germany\n",
      "Python Deep Learning Instructur (Keras, TensorFlow) - Germany\n",
      "Enable AI\n",
      "German cities, Germany\n",
      "**************************************************\n",
      "Senior Python Engineer (d/f/m)\n",
      "Stylight GmbH\n",
      "Munich, Germany\n",
      "**************************************************\n",
      "2 Jobs found in Germany\n"
     ]
    }
   ],
   "source": [
    "import requests\n",
    "from bs4 import BeautifulSoup\n",
    "\n",
    "url = \"https://www.python.org/jobs/\"\n",
    "r = requests.get(url)\n",
    "\n",
    "r.status_code #to check url status, if it equals to 200 it is fine\n",
    "r.content #to check if url content looks fine\n",
    "\n",
    "soup = BeautifulSoup(r.content, \"lxml\") #to form content more beautiful\n",
    "\n",
    "pages = len(soup.find_all(\"ul\", attrs={\"class\":\"pagination\"})[0].find_all(\"li\")) - 2 #-2 because of next and prev buttons\n",
    "country = input(\"Type where you want to work: \")\n",
    "total_jobs= 0\n",
    "\n",
    "for i in range(1, pages+1):\n",
    "    pagerequest = requests.get(\"https://www.python.org/jobs/?page=\" + str(i))\n",
    "    pagecode = BeautifulSoup(pagerequest.content, \"lxml\")\n",
    "    ads = pagecode.find(\"div\", attrs ={\"class\":\"row\"}).ol.find_all(\"li\")\n",
    "    \n",
    "    for j in ads:\n",
    "        title = j.h2.find(\"a\").text\n",
    "        location = (j.find(\"span\", attrs={\"class\":\"listing-location\"}).text)\n",
    "        company = j.find(\"span\", attrs= {\"class\": \"listing-company-name\"}).br.next.strip()\n",
    "        \n",
    "        if country in location:\n",
    "            total_jobs += 1\n",
    "            print(title, company, location, sep=\"\\n\")\n",
    "            print(\"*\"*50)\n",
    "            \n",
    "            \n",
    "print(str(total_jobs) + \" Jobs found in \" + country)"
   ]
  },
  {
   "cell_type": "code",
   "execution_count": null,
   "metadata": {},
   "outputs": [],
   "source": []
  }
 ],
 "metadata": {
  "kernelspec": {
   "display_name": "Python 3",
   "language": "python",
   "name": "python3"
  },
  "language_info": {
   "codemirror_mode": {
    "name": "ipython",
    "version": 3
   },
   "file_extension": ".py",
   "mimetype": "text/x-python",
   "name": "python",
   "nbconvert_exporter": "python",
   "pygments_lexer": "ipython3",
   "version": "3.6.5"
  }
 },
 "nbformat": 4,
 "nbformat_minor": 2
}
